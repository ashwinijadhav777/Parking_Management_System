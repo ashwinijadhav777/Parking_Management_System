{
  "nbformat": 4,
  "nbformat_minor": 0,
  "metadata": {
    "colab": {
      "name": "news.ipynb",
      "provenance": [],
      "collapsed_sections": [],
      "authorship_tag": "ABX9TyOZi9QnNLPKkjCjFxDnoO0G",
      "include_colab_link": true
    },
    "kernelspec": {
      "name": "python3",
      "display_name": "Python 3"
    },
    "language_info": {
      "name": "python"
    }
  },
  "cells": [
    {
      "cell_type": "markdown",
      "metadata": {
        "id": "view-in-github",
        "colab_type": "text"
      },
      "source": [
        "<a href=\"https://colab.research.google.com/github/ashwinijadhav777/Parking_Management_System/blob/master/news.ipynb\" target=\"_parent\"><img src=\"https://colab.research.google.com/assets/colab-badge.svg\" alt=\"Open In Colab\"/></a>"
      ]
    },
    {
      "cell_type": "code",
      "metadata": {
        "id": "wHoBUmOL8ZlU"
      },
      "source": [
        "!pip install -q kaggle"
      ],
      "execution_count": 1,
      "outputs": []
    },
    {
      "cell_type": "code",
      "metadata": {
        "id": "mfzlFnro8fxV"
      },
      "source": [
        "!mkdir -p ~/.kaggle"
      ],
      "execution_count": 2,
      "outputs": []
    },
    {
      "cell_type": "code",
      "metadata": {
        "id": "0s-46Y858qrK"
      },
      "source": [
        "!cp kaggle.json ~/.kaggle"
      ],
      "execution_count": 3,
      "outputs": []
    },
    {
      "cell_type": "code",
      "metadata": {
        "id": "C4Pgbxrs8tyS"
      },
      "source": [
        "! chmod 600 /root/.kaggle/kaggle.json"
      ],
      "execution_count": 5,
      "outputs": []
    },
    {
      "cell_type": "code",
      "metadata": {
        "colab": {
          "base_uri": "https://localhost:8080/"
        },
        "id": "xRIVIFiV9IYP",
        "outputId": "796866d4-20ce-4d3e-f78d-4afd2a483d80"
      },
      "source": [
        "!kaggle datasets download -d rootuser/worldnews-on-reddit"
      ],
      "execution_count": 6,
      "outputs": [
        {
          "output_type": "stream",
          "text": [
            "Downloading worldnews-on-reddit.zip to /content\n",
            " 64% 17.0M/26.6M [00:00<00:00, 63.8MB/s]\n",
            "100% 26.6M/26.6M [00:00<00:00, 76.4MB/s]\n"
          ],
          "name": "stdout"
        }
      ]
    },
    {
      "cell_type": "code",
      "metadata": {
        "id": "jbaKyiQX9OdB"
      },
      "source": [
        "import gensim\n",
        "from gensim.models import Word2Vec, KeyedVectors"
      ],
      "execution_count": 9,
      "outputs": []
    },
    {
      "cell_type": "code",
      "metadata": {
        "colab": {
          "base_uri": "https://localhost:8080/"
        },
        "id": "c2dQo8iT-V-6",
        "outputId": "7c98f2d3-d982-4785-915a-f6f258d7f4ad"
      },
      "source": [
        "! unzip /content/worldnews-on-reddit.zip"
      ],
      "execution_count": 11,
      "outputs": [
        {
          "output_type": "stream",
          "text": [
            "Archive:  /content/worldnews-on-reddit.zip\n",
            "  inflating: reddit_worldnews_start_to_2016-11-22.csv  \n"
          ],
          "name": "stdout"
        }
      ]
    },
    {
      "cell_type": "code",
      "metadata": {
        "colab": {
          "base_uri": "https://localhost:8080/",
          "height": 318
        },
        "id": "lcACV1Fp95V3",
        "outputId": "8bebc242-e993-493c-8165-18a8f94fbdac"
      },
      "source": [
        "import pandas as pd\n",
        "data = pd.read_csv('/content/reddit_worldnews_start_to_2016-11-22.csv')\n",
        "data.head()\n"
      ],
      "execution_count": 12,
      "outputs": [
        {
          "output_type": "execute_result",
          "data": {
            "text/html": [
              "<div>\n",
              "<style scoped>\n",
              "    .dataframe tbody tr th:only-of-type {\n",
              "        vertical-align: middle;\n",
              "    }\n",
              "\n",
              "    .dataframe tbody tr th {\n",
              "        vertical-align: top;\n",
              "    }\n",
              "\n",
              "    .dataframe thead th {\n",
              "        text-align: right;\n",
              "    }\n",
              "</style>\n",
              "<table border=\"1\" class=\"dataframe\">\n",
              "  <thead>\n",
              "    <tr style=\"text-align: right;\">\n",
              "      <th></th>\n",
              "      <th>time_created</th>\n",
              "      <th>date_created</th>\n",
              "      <th>up_votes</th>\n",
              "      <th>down_votes</th>\n",
              "      <th>title</th>\n",
              "      <th>over_18</th>\n",
              "      <th>author</th>\n",
              "      <th>subreddit</th>\n",
              "    </tr>\n",
              "  </thead>\n",
              "  <tbody>\n",
              "    <tr>\n",
              "      <th>0</th>\n",
              "      <td>1201232046</td>\n",
              "      <td>2008-01-25</td>\n",
              "      <td>3</td>\n",
              "      <td>0</td>\n",
              "      <td>Scores killed in Pakistan clashes</td>\n",
              "      <td>False</td>\n",
              "      <td>polar</td>\n",
              "      <td>worldnews</td>\n",
              "    </tr>\n",
              "    <tr>\n",
              "      <th>1</th>\n",
              "      <td>1201232075</td>\n",
              "      <td>2008-01-25</td>\n",
              "      <td>2</td>\n",
              "      <td>0</td>\n",
              "      <td>Japan resumes refuelling mission</td>\n",
              "      <td>False</td>\n",
              "      <td>polar</td>\n",
              "      <td>worldnews</td>\n",
              "    </tr>\n",
              "    <tr>\n",
              "      <th>2</th>\n",
              "      <td>1201232523</td>\n",
              "      <td>2008-01-25</td>\n",
              "      <td>3</td>\n",
              "      <td>0</td>\n",
              "      <td>US presses Egypt on Gaza border</td>\n",
              "      <td>False</td>\n",
              "      <td>polar</td>\n",
              "      <td>worldnews</td>\n",
              "    </tr>\n",
              "    <tr>\n",
              "      <th>3</th>\n",
              "      <td>1201233290</td>\n",
              "      <td>2008-01-25</td>\n",
              "      <td>1</td>\n",
              "      <td>0</td>\n",
              "      <td>Jump-start economy: Give health care to all</td>\n",
              "      <td>False</td>\n",
              "      <td>fadi420</td>\n",
              "      <td>worldnews</td>\n",
              "    </tr>\n",
              "    <tr>\n",
              "      <th>4</th>\n",
              "      <td>1201274720</td>\n",
              "      <td>2008-01-25</td>\n",
              "      <td>4</td>\n",
              "      <td>0</td>\n",
              "      <td>Council of Europe bashes EU&amp;UN terror blacklist</td>\n",
              "      <td>False</td>\n",
              "      <td>mhermans</td>\n",
              "      <td>worldnews</td>\n",
              "    </tr>\n",
              "  </tbody>\n",
              "</table>\n",
              "</div>"
            ],
            "text/plain": [
              "   time_created date_created  up_votes  ...  over_18    author  subreddit\n",
              "0    1201232046   2008-01-25         3  ...    False     polar  worldnews\n",
              "1    1201232075   2008-01-25         2  ...    False     polar  worldnews\n",
              "2    1201232523   2008-01-25         3  ...    False     polar  worldnews\n",
              "3    1201233290   2008-01-25         1  ...    False   fadi420  worldnews\n",
              "4    1201274720   2008-01-25         4  ...    False  mhermans  worldnews\n",
              "\n",
              "[5 rows x 8 columns]"
            ]
          },
          "metadata": {
            "tags": []
          },
          "execution_count": 12
        }
      ]
    },
    {
      "cell_type": "code",
      "metadata": {
        "colab": {
          "base_uri": "https://localhost:8080/"
        },
        "id": "MXPFWpDt-x4W",
        "outputId": "7e15fb3a-05e4-432c-fe9a-ed2216e62577"
      },
      "source": [
        "import nltk\n",
        "nltk.download('punkt')"
      ],
      "execution_count": 13,
      "outputs": [
        {
          "output_type": "stream",
          "text": [
            "[nltk_data] Downloading package punkt to /root/nltk_data...\n",
            "[nltk_data]   Unzipping tokenizers/punkt.zip.\n"
          ],
          "name": "stdout"
        },
        {
          "output_type": "execute_result",
          "data": {
            "text/plain": [
              "True"
            ]
          },
          "metadata": {
            "tags": []
          },
          "execution_count": 13
        }
      ]
    },
    {
      "cell_type": "code",
      "metadata": {
        "id": "jW-wloku-7by"
      },
      "source": [
        "new_vec = [nltk.word_tokenize(title) for title in data['title'].values]"
      ],
      "execution_count": 18,
      "outputs": []
    },
    {
      "cell_type": "code",
      "metadata": {
        "colab": {
          "base_uri": "https://localhost:8080/"
        },
        "id": "WytbWQfv_J6O",
        "outputId": "a94503f9-ad2c-4182-fdc5-6c976f6e488a"
      },
      "source": [
        "new_vec[0]"
      ],
      "execution_count": 21,
      "outputs": [
        {
          "output_type": "execute_result",
          "data": {
            "text/plain": [
              "['Scores', 'killed', 'in', 'Pakistan', 'clashes']"
            ]
          },
          "metadata": {
            "tags": []
          },
          "execution_count": 21
        }
      ]
    },
    {
      "cell_type": "code",
      "metadata": {
        "id": "Vskh_XeI_86C"
      },
      "source": [
        "# build a model\n",
        "model = Word2Vec(new_vec, min_count = 1, size=32)"
      ],
      "execution_count": 22,
      "outputs": []
    },
    {
      "cell_type": "code",
      "metadata": {
        "colab": {
          "base_uri": "https://localhost:8080/"
        },
        "id": "8twuBkKB_dlF",
        "outputId": "39ff1487-a152-428c-856c-ad60f7417ee9"
      },
      "source": [
        "model"
      ],
      "execution_count": 23,
      "outputs": [
        {
          "output_type": "execute_result",
          "data": {
            "text/plain": [
              "<gensim.models.word2vec.Word2Vec at 0x7eff48cd2f50>"
            ]
          },
          "metadata": {
            "tags": []
          },
          "execution_count": 23
        }
      ]
    },
    {
      "cell_type": "code",
      "metadata": {
        "colab": {
          "base_uri": "https://localhost:8080/"
        },
        "id": "Ft0Xt5FDBG-V",
        "outputId": "dfa7a44d-b0d5-47c0-b9f5-db14061720f9"
      },
      "source": [
        "model.wv.most_similar('man')"
      ],
      "execution_count": 24,
      "outputs": [
        {
          "output_type": "execute_result",
          "data": {
            "text/plain": [
              "[('woman', 0.9699621200561523),\n",
              " ('girl', 0.914911150932312),\n",
              " ('boy', 0.9097031354904175),\n",
              " ('mother', 0.8964261412620544),\n",
              " ('teenager', 0.8850899934768677),\n",
              " ('couple', 0.8805146217346191),\n",
              " ('doctor', 0.8730462193489075),\n",
              " ('teacher', 0.866042971611023),\n",
              " ('father', 0.842854380607605),\n",
              " ('baby', 0.8271012306213379)]"
            ]
          },
          "metadata": {
            "tags": []
          },
          "execution_count": 24
        }
      ]
    },
    {
      "cell_type": "code",
      "metadata": {
        "colab": {
          "base_uri": "https://localhost:8080/"
        },
        "id": "jp5aDOqkBHJe",
        "outputId": "21d8ad30-3da6-4d42-9155-ebf6db599895"
      },
      "source": [
        "vec = model.wv['Germany'] - model.wv['Berlin'] +  model.wv['Paris']\n",
        "model.wv.most_similar([vec])"
      ],
      "execution_count": 27,
      "outputs": [
        {
          "output_type": "execute_result",
          "data": {
            "text/plain": [
              "[('France', 0.8698461651802063),\n",
              " ('Belgium', 0.8595468997955322),\n",
              " ('Paris', 0.8326647281646729),\n",
              " ('Germany', 0.8266319036483765),\n",
              " ('Brussels', 0.8154272437095642),\n",
              " ('Sweden', 0.7994862794876099),\n",
              " ('UK', 0.7892410159111023),\n",
              " ('Britain', 0.7658758163452148),\n",
              " ('Norway', 0.7074443697929382),\n",
              " ('Turkey', 0.7073647975921631)]"
            ]
          },
          "metadata": {
            "tags": []
          },
          "execution_count": 27
        }
      ]
    },
    {
      "cell_type": "code",
      "metadata": {
        "colab": {
          "base_uri": "https://localhost:8080/"
        },
        "id": "53XtqAarDKTm",
        "outputId": "2df1f107-ee21-467e-87d8-12ab9da63e80"
      },
      "source": [
        "vec = model.wv['Cricket'] - model.wv['Dhoni'] +  model.wv['Messi']\n",
        "model.wv.most_similar([vec]) "
      ],
      "execution_count": 30,
      "outputs": [
        {
          "output_type": "execute_result",
          "data": {
            "text/plain": [
              "[('Messi', 0.9275153279304504),\n",
              " ('Cricket', 0.9273232221603394),\n",
              " ('Abul', 0.8930315971374512),\n",
              " ('Ronaldo', 0.8882606029510498),\n",
              " ('Takaaki', 0.8865792155265808),\n",
              " ('Raffaele', 0.8862634301185608),\n",
              " ('therapist', 0.8860107660293579),\n",
              " ('Munro', 0.8848710060119629),\n",
              " ('Reinhold', 0.8829541206359863),\n",
              " ('Favorites', 0.8814510107040405)]"
            ]
          },
          "metadata": {
            "tags": []
          },
          "execution_count": 30
        }
      ]
    },
    {
      "cell_type": "code",
      "metadata": {
        "id": "fktnhaqeD9N5"
      },
      "source": [
        ""
      ],
      "execution_count": null,
      "outputs": []
    }
  ]
}